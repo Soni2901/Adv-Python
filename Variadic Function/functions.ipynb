{
 "cells": [
  {
   "cell_type": "code",
   "execution_count": 1,
   "metadata": {},
   "outputs": [],
   "source": [
    "def add(a: int|float, b: int|float) -> int|float:\n",
    "    c = a + b\n",
    "    return c"
   ]
  },
  {
   "cell_type": "code",
   "execution_count": 3,
   "metadata": {},
   "outputs": [
    {
     "data": {
      "text/plain": [
       "7"
      ]
     },
     "execution_count": 3,
     "metadata": {},
     "output_type": "execute_result"
    }
   ],
   "source": [
    "# Arguments input\n",
    "add(3, 4)"
   ]
  },
  {
   "cell_type": "code",
   "execution_count": 4,
   "metadata": {},
   "outputs": [
    {
     "data": {
      "text/plain": [
       "6.5"
      ]
     },
     "execution_count": 4,
     "metadata": {},
     "output_type": "execute_result"
    }
   ],
   "source": [
    "add(4.5, 2)"
   ]
  },
  {
   "cell_type": "code",
   "execution_count": 5,
   "metadata": {},
   "outputs": [
    {
     "data": {
      "text/plain": [
       "34"
      ]
     },
     "execution_count": 5,
     "metadata": {},
     "output_type": "execute_result"
    }
   ],
   "source": [
    "# Keyword arguments in python\n",
    "add(a=23, b=11)"
   ]
  },
  {
   "cell_type": "code",
   "execution_count": 6,
   "metadata": {},
   "outputs": [
    {
     "data": {
      "text/plain": [
       "23.8"
      ]
     },
     "execution_count": 6,
     "metadata": {},
     "output_type": "execute_result"
    }
   ],
   "source": [
    "add(a=11.5, b=12.3)"
   ]
  },
  {
   "cell_type": "code",
   "execution_count": 8,
   "metadata": {},
   "outputs": [],
   "source": [
    "# Try to add 3 numbers with above code"
   ]
  },
  {
   "cell_type": "code",
   "execution_count": 9,
   "metadata": {},
   "outputs": [
    {
     "ename": "TypeError",
     "evalue": "add() takes 2 positional arguments but 3 were given",
     "output_type": "error",
     "traceback": [
      "\u001b[1;31m---------------------------------------------------------------------------\u001b[0m",
      "\u001b[1;31mTypeError\u001b[0m                                 Traceback (most recent call last)",
      "Cell \u001b[1;32mIn[9], line 1\u001b[0m\n\u001b[1;32m----> 1\u001b[0m \u001b[43madd\u001b[49m\u001b[43m(\u001b[49m\u001b[38;5;241;43m1\u001b[39;49m\u001b[43m,\u001b[49m\u001b[43m \u001b[49m\u001b[38;5;241;43m2\u001b[39;49m\u001b[43m,\u001b[49m\u001b[43m \u001b[49m\u001b[38;5;241;43m3\u001b[39;49m\u001b[43m)\u001b[49m\n",
      "\u001b[1;31mTypeError\u001b[0m: add() takes 2 positional arguments but 3 were given"
     ]
    }
   ],
   "source": [
    "add(1, 2, 3)"
   ]
  },
  {
   "cell_type": "code",
   "execution_count": 12,
   "metadata": {
    "tags": [
     "parameters"
    ]
   },
   "outputs": [],
   "source": [
    "# Create args inside function\n",
    "# *args - this will act like a tuple in python"
   ]
  },
  {
   "cell_type": "code",
   "execution_count": 13,
   "metadata": {},
   "outputs": [],
   "source": [
    "def function1(*args):\n",
    "    print(args)\n",
    "    print(type(args))\n",
    "    for i in args:\n",
    "        print(i)"
   ]
  },
  {
   "cell_type": "code",
   "execution_count": 14,
   "metadata": {},
   "outputs": [
    {
     "name": "stdout",
     "output_type": "stream",
     "text": [
      "(3, 4)\n",
      "<class 'tuple'>\n",
      "3\n",
      "4\n"
     ]
    }
   ],
   "source": [
    "function1(3, 4)"
   ]
  },
  {
   "cell_type": "code",
   "execution_count": 26,
   "metadata": {},
   "outputs": [
    {
     "name": "stdout",
     "output_type": "stream",
     "text": [
      "('soni', 28, 'Data Analytic', 'o+ve')\n",
      "<class 'tuple'>\n",
      "soni\n",
      "28\n",
      "Data Analytic\n",
      "o+ve\n"
     ]
    }
   ],
   "source": [
    "function1(\"soni\", 28, \"Data Analytic\", \"o+ve\")"
   ]
  },
  {
   "cell_type": "code",
   "execution_count": 18,
   "metadata": {},
   "outputs": [
    {
     "data": {
      "text/plain": [
       "list"
      ]
     },
     "execution_count": 18,
     "metadata": {},
     "output_type": "execute_result"
    }
   ],
   "source": [
    "a = [\"Example\", True, False, 12.5, 11.2, 13]\n",
    "type(a)"
   ]
  },
  {
   "cell_type": "markdown",
   "metadata": {},
   "source": [
    "# Upack a list using *list_name\n"
   ]
  },
  {
   "cell_type": "code",
   "execution_count": 28,
   "metadata": {},
   "outputs": [
    {
     "name": "stdout",
     "output_type": "stream",
     "text": [
      "('Example', True, False, 12.5, 11.2, 13)\n",
      "<class 'tuple'>\n",
      "Example\n",
      "True\n",
      "False\n",
      "12.5\n",
      "11.2\n",
      "13\n"
     ]
    }
   ],
   "source": [
    "function1(*a)"
   ]
  },
  {
   "cell_type": "markdown",
   "metadata": {},
   "source": [
    "Given the cart products of a customer perform total billing of products"
   ]
  },
  {
   "cell_type": "code",
   "execution_count": null,
   "metadata": {},
   "outputs": [],
   "source": [
    "\n",
    "c1 = [\n",
    "    (\"Laptop\", 65000, 1),\n",
    "    (\"Mouse\", 1500, 2),\n",
    "    (\"Keyboard\", 2000, 1)\n",
    "]"
   ]
  },
  {
   "cell_type": "code",
   "execution_count": 21,
   "metadata": {},
   "outputs": [],
   "source": [
    "def billing(*args):\n",
    "    # Initalize total bill to 0\n",
    "    total_bill = 0\n",
    "\n",
    "    # Apply for loop on args\n",
    "    for name, price, qty in args:\n",
    "        subtotal = price*qty\n",
    "        total_bill = total_bill + subtotal\n",
    "        print(f\"Name : {name}, Price : {price} INR, Quantity : {qty}\")\n",
    "        print(f\"Subtotal : {subtotal} INR\")\n",
    "        print(\"\\n=======================================================\\n\")\n",
    "    \n",
    "    # Print and return total bill\n",
    "    print(f\"Total Bill : {total_bill:.2f} INR\")\n",
    "    return total_bill"
   ]
  },
  {
   "cell_type": "code",
   "execution_count": 22,
   "metadata": {},
   "outputs": [
    {
     "data": {
      "text/plain": [
       "[('Laptop', 65000, 1), ('Mouse', 1500, 2), ('Keyboard', 2000, 1)]"
      ]
     },
     "execution_count": 22,
     "metadata": {},
     "output_type": "execute_result"
    }
   ],
   "source": [
    "c1"
   ]
  },
  {
   "cell_type": "code",
   "execution_count": 23,
   "metadata": {},
   "outputs": [
    {
     "name": "stdout",
     "output_type": "stream",
     "text": [
      "Name : Laptop, Price : 65000 INR, Quantity : 1\n",
      "Subtotal : 65000 INR\n",
      "\n",
      "=======================================================\n",
      "\n",
      "Name : Mouse, Price : 1500 INR, Quantity : 2\n",
      "Subtotal : 3000 INR\n",
      "\n",
      "=======================================================\n",
      "\n",
      "Name : Keyboard, Price : 2000 INR, Quantity : 1\n",
      "Subtotal : 2000 INR\n",
      "\n",
      "=======================================================\n",
      "\n",
      "Total Bill : 70000.00 INR\n"
     ]
    }
   ],
   "source": [
    "t1 = billing(*c1)"
   ]
  },
  {
   "cell_type": "code",
   "execution_count": 24,
   "metadata": {},
   "outputs": [
    {
     "data": {
      "text/plain": [
       "70000"
      ]
     },
     "execution_count": 24,
     "metadata": {},
     "output_type": "execute_result"
    }
   ],
   "source": [
    "t1"
   ]
  },
  {
   "cell_type": "code",
   "execution_count": 25,
   "metadata": {},
   "outputs": [
    {
     "name": "stdout",
     "output_type": "stream",
     "text": [
      "Name : Mobile, Price : 30000 INR, Quantity : 2\n",
      "Subtotal : 60000 INR\n",
      "\n",
      "=======================================================\n",
      "\n",
      "Name : Screen Guard, Price : 200 INR, Quantity : 4\n",
      "Subtotal : 800 INR\n",
      "\n",
      "=======================================================\n",
      "\n",
      "Name : Headphones, Price : 2000 INR, Quantity : 1\n",
      "Subtotal : 2000 INR\n",
      "\n",
      "=======================================================\n",
      "\n",
      "Name : Phone cover, Price : 400 INR, Quantity : 2\n",
      "Subtotal : 800 INR\n",
      "\n",
      "=======================================================\n",
      "\n",
      "Total Bill : 63600.00 INR\n"
     ]
    }
   ],
   "source": [
    "t2 = billing(\n",
    "    (\"Mobile\", 30000, 2),\n",
    "    (\"Screen Guard\", 200, 4),\n",
    "    (\"Headphones\", 2000, 1),\n",
    "    (\"Phone cover\", 400, 2)\n",
    ")"
   ]
  },
  {
   "cell_type": "markdown",
   "metadata": {},
   "source": [
    "Flexibility in keyword arguments\n",
    "**kwargs - These act like a dictionoary in python\n",
    "\n",
    "{ key1: value1, key2: value2, key3: value3 }"
   ]
  },
  {
   "cell_type": "code",
   "execution_count": 29,
   "metadata": {},
   "outputs": [],
   "source": [
    "def function2(**kwargs):\n",
    "    print(kwargs)\n",
    "    print(type(kwargs))\n",
    "    for key, value in kwargs.items():\n",
    "        print(f\"Key : {key}, Value : {value}\")"
   ]
  },
  {
   "cell_type": "code",
   "execution_count": 30,
   "metadata": {},
   "outputs": [
    {
     "name": "stdout",
     "output_type": "stream",
     "text": [
      "{'a': 1, 'b': 23, 'name': 'Rahul', 'married': False}\n",
      "<class 'dict'>\n",
      "Key : a, Value : 1\n",
      "Key : b, Value : 23\n",
      "Key : name, Value : Rahul\n",
      "Key : married, Value : False\n"
     ]
    }
   ],
   "source": [
    "function2(a=1, b=23, name=\"Rahul\", married=False)"
   ]
  },
  {
   "cell_type": "markdown",
   "metadata": {},
   "source": [
    "Storing information about different users"
   ]
  },
  {
   "cell_type": "code",
   "execution_count": 31,
   "metadata": {},
   "outputs": [],
   "source": [
    "def create_user(**kwargs):\n",
    "    user = {\n",
    "        \"username\": None,\n",
    "        \"age\": None,\n",
    "        \"email\": None\n",
    "    }\n",
    "    user.update(kwargs)\n",
    "    return user"
   ]
  },
  {
   "cell_type": "code",
   "execution_count": 32,
   "metadata": {},
   "outputs": [
    {
     "data": {
      "text/plain": [
       "{'username': 'sarthaks1', 'age': 23, 'email': None}"
      ]
     },
     "execution_count": 32,
     "metadata": {},
     "output_type": "execute_result"
    }
   ],
   "source": [
    "u1 = create_user(\n",
    "    username = \"sarthaks1\",\n",
    "    age = 23\n",
    ")\n",
    "u1"
   ]
  },
  {
   "cell_type": "code",
   "execution_count": 33,
   "metadata": {},
   "outputs": [
    {
     "data": {
      "text/plain": [
       "{'username': 'ramanr3', 'age': 28, 'email': 'raman@test.com'}"
      ]
     },
     "execution_count": 33,
     "metadata": {},
     "output_type": "execute_result"
    }
   ],
   "source": [
    "u2 = create_user(\n",
    "    username = \"ramanr3\",\n",
    "    age = 28,\n",
    "    email = \"raman@test.com\"\n",
    ")\n",
    "u2"
   ]
  },
  {
   "cell_type": "code",
   "execution_count": 34,
   "metadata": {},
   "outputs": [
    {
     "data": {
      "text/plain": [
       "{'username': 'rahul1',\n",
       " 'age': 23,\n",
       " 'email': 'rahul@gmail.com',\n",
       " 'blood_group': 'B+ve',\n",
       " 'contact': 9876543210}"
      ]
     },
     "execution_count": 34,
     "metadata": {},
     "output_type": "execute_result"
    }
   ],
   "source": [
    "u3 = create_user(\n",
    "    username = \"rahul1\",\n",
    "    age= 23,\n",
    "    email = \"rahul@gmail.com\",\n",
    "    blood_group = \"B+ve\",\n",
    "    contact = 9876543210\n",
    ")\n",
    "u3"
   ]
  },
  {
   "cell_type": "code",
   "execution_count": null,
   "metadata": {},
   "outputs": [],
   "source": []
  }
 ],
 "metadata": {
  "kernelspec": {
   "display_name": "venv",
   "language": "python",
   "name": "python3"
  },
  "language_info": {
   "codemirror_mode": {
    "name": "ipython",
    "version": 3
   },
   "file_extension": ".py",
   "mimetype": "text/x-python",
   "name": "python",
   "nbconvert_exporter": "python",
   "pygments_lexer": "ipython3",
   "version": "3.13.2"
  }
 },
 "nbformat": 4,
 "nbformat_minor": 2
}
